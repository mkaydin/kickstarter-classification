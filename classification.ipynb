{
 "cells": [
  {
   "cell_type": "code",
   "execution_count": 43,
   "metadata": {},
   "outputs": [],
   "source": [
    "# Mustafa Kemal AYDIN\n",
    "# 200905023\n",
    "\n",
    "import numpy as np\n",
    "import pandas as pd \n",
    "import seaborn as sns\n",
    "import matplotlib.pyplot as plt\n",
    "%matplotlib inline\n",
    "import warnings\n",
    "warnings.filterwarnings('ignore')\n",
    "\n",
    "import os\n",
    "for dirname, _, filenames in os.walk('/input'):\n",
    "    for filename in filenames:\n",
    "        print(os.path.join(dirname, filename))\n"
   ]
  },
  {
   "attachments": {},
   "cell_type": "markdown",
   "metadata": {},
   "source": [
    "Veri Analizi ve Temizlenmesi"
   ]
  },
  {
   "cell_type": "code",
   "execution_count": 44,
   "metadata": {},
   "outputs": [
    {
     "data": {
      "text/html": [
       "<div>\n",
       "<style scoped>\n",
       "    .dataframe tbody tr th:only-of-type {\n",
       "        vertical-align: middle;\n",
       "    }\n",
       "\n",
       "    .dataframe tbody tr th {\n",
       "        vertical-align: top;\n",
       "    }\n",
       "\n",
       "    .dataframe thead th {\n",
       "        text-align: right;\n",
       "    }\n",
       "</style>\n",
       "<table border=\"1\" class=\"dataframe\">\n",
       "  <thead>\n",
       "    <tr style=\"text-align: right;\">\n",
       "      <th></th>\n",
       "      <th>ID</th>\n",
       "      <th>Category</th>\n",
       "      <th>Subcategory</th>\n",
       "      <th>Country</th>\n",
       "      <th>Launched</th>\n",
       "      <th>Deadline</th>\n",
       "      <th>Goal</th>\n",
       "      <th>Pledged</th>\n",
       "      <th>Backers</th>\n",
       "      <th>State</th>\n",
       "      <th>Year</th>\n",
       "    </tr>\n",
       "  </thead>\n",
       "  <tbody>\n",
       "    <tr>\n",
       "      <th>0</th>\n",
       "      <td>1860890148</td>\n",
       "      <td>Fashion</td>\n",
       "      <td>Fashion</td>\n",
       "      <td>United States</td>\n",
       "      <td>2009-04-21 21:02:48</td>\n",
       "      <td>2009-05-31</td>\n",
       "      <td>1000</td>\n",
       "      <td>625</td>\n",
       "      <td>30</td>\n",
       "      <td>Failed</td>\n",
       "      <td>2009</td>\n",
       "    </tr>\n",
       "    <tr>\n",
       "      <th>1</th>\n",
       "      <td>709707365</td>\n",
       "      <td>Film &amp; Video</td>\n",
       "      <td>Shorts</td>\n",
       "      <td>United States</td>\n",
       "      <td>2009-04-23 00:07:53</td>\n",
       "      <td>2009-07-20</td>\n",
       "      <td>80000</td>\n",
       "      <td>22</td>\n",
       "      <td>3</td>\n",
       "      <td>Failed</td>\n",
       "      <td>2009</td>\n",
       "    </tr>\n",
       "    <tr>\n",
       "      <th>2</th>\n",
       "      <td>1703704063</td>\n",
       "      <td>Art</td>\n",
       "      <td>Illustration</td>\n",
       "      <td>United States</td>\n",
       "      <td>2009-04-24 21:52:03</td>\n",
       "      <td>2009-05-03</td>\n",
       "      <td>20</td>\n",
       "      <td>35</td>\n",
       "      <td>3</td>\n",
       "      <td>Successful</td>\n",
       "      <td>2009</td>\n",
       "    </tr>\n",
       "    <tr>\n",
       "      <th>3</th>\n",
       "      <td>727286</td>\n",
       "      <td>Technology</td>\n",
       "      <td>Software</td>\n",
       "      <td>United States</td>\n",
       "      <td>2009-04-25 17:36:21</td>\n",
       "      <td>2009-07-14</td>\n",
       "      <td>99</td>\n",
       "      <td>145</td>\n",
       "      <td>25</td>\n",
       "      <td>Successful</td>\n",
       "      <td>2009</td>\n",
       "    </tr>\n",
       "    <tr>\n",
       "      <th>4</th>\n",
       "      <td>1622952265</td>\n",
       "      <td>Fashion</td>\n",
       "      <td>Fashion</td>\n",
       "      <td>United States</td>\n",
       "      <td>2009-04-27 14:10:39</td>\n",
       "      <td>2009-05-26</td>\n",
       "      <td>1900</td>\n",
       "      <td>387</td>\n",
       "      <td>10</td>\n",
       "      <td>Failed</td>\n",
       "      <td>2009</td>\n",
       "    </tr>\n",
       "    <tr>\n",
       "      <th>5</th>\n",
       "      <td>2089078683</td>\n",
       "      <td>Journalism</td>\n",
       "      <td>Journalism</td>\n",
       "      <td>United States</td>\n",
       "      <td>2009-04-28 13:55:41</td>\n",
       "      <td>2009-05-16</td>\n",
       "      <td>3000</td>\n",
       "      <td>3329</td>\n",
       "      <td>110</td>\n",
       "      <td>Successful</td>\n",
       "      <td>2009</td>\n",
       "    </tr>\n",
       "    <tr>\n",
       "      <th>6</th>\n",
       "      <td>830477146</td>\n",
       "      <td>Film &amp; Video</td>\n",
       "      <td>Shorts</td>\n",
       "      <td>United States</td>\n",
       "      <td>2009-04-29 02:04:21</td>\n",
       "      <td>2009-05-29</td>\n",
       "      <td>200</td>\n",
       "      <td>41</td>\n",
       "      <td>3</td>\n",
       "      <td>Failed</td>\n",
       "      <td>2009</td>\n",
       "    </tr>\n",
       "    <tr>\n",
       "      <th>7</th>\n",
       "      <td>266044220</td>\n",
       "      <td>Publishing</td>\n",
       "      <td>Fiction</td>\n",
       "      <td>United States</td>\n",
       "      <td>2009-04-29 02:58:50</td>\n",
       "      <td>2009-05-29</td>\n",
       "      <td>500</td>\n",
       "      <td>563</td>\n",
       "      <td>18</td>\n",
       "      <td>Successful</td>\n",
       "      <td>2009</td>\n",
       "    </tr>\n",
       "    <tr>\n",
       "      <th>8</th>\n",
       "      <td>1502297238</td>\n",
       "      <td>Theater</td>\n",
       "      <td>Theater</td>\n",
       "      <td>United States</td>\n",
       "      <td>2009-04-29 04:37:37</td>\n",
       "      <td>2009-06-01</td>\n",
       "      <td>500</td>\n",
       "      <td>0</td>\n",
       "      <td>0</td>\n",
       "      <td>Canceled</td>\n",
       "      <td>2009</td>\n",
       "    </tr>\n",
       "    <tr>\n",
       "      <th>9</th>\n",
       "      <td>813230527</td>\n",
       "      <td>Music</td>\n",
       "      <td>Rock</td>\n",
       "      <td>United States</td>\n",
       "      <td>2009-04-29 05:26:32</td>\n",
       "      <td>2009-05-16</td>\n",
       "      <td>300</td>\n",
       "      <td>15</td>\n",
       "      <td>2</td>\n",
       "      <td>Failed</td>\n",
       "      <td>2009</td>\n",
       "    </tr>\n",
       "  </tbody>\n",
       "</table>\n",
       "</div>"
      ],
      "text/plain": [
       "           ID      Category   Subcategory        Country             Launched  \\\n",
       "0  1860890148       Fashion       Fashion  United States  2009-04-21 21:02:48   \n",
       "1   709707365  Film & Video        Shorts  United States  2009-04-23 00:07:53   \n",
       "2  1703704063           Art  Illustration  United States  2009-04-24 21:52:03   \n",
       "3      727286    Technology      Software  United States  2009-04-25 17:36:21   \n",
       "4  1622952265       Fashion       Fashion  United States  2009-04-27 14:10:39   \n",
       "5  2089078683    Journalism    Journalism  United States  2009-04-28 13:55:41   \n",
       "6   830477146  Film & Video        Shorts  United States  2009-04-29 02:04:21   \n",
       "7   266044220    Publishing       Fiction  United States  2009-04-29 02:58:50   \n",
       "8  1502297238       Theater       Theater  United States  2009-04-29 04:37:37   \n",
       "9   813230527         Music          Rock  United States  2009-04-29 05:26:32   \n",
       "\n",
       "     Deadline   Goal  Pledged  Backers       State  Year  \n",
       "0  2009-05-31   1000      625       30      Failed  2009  \n",
       "1  2009-07-20  80000       22        3      Failed  2009  \n",
       "2  2009-05-03     20       35        3  Successful  2009  \n",
       "3  2009-07-14     99      145       25  Successful  2009  \n",
       "4  2009-05-26   1900      387       10      Failed  2009  \n",
       "5  2009-05-16   3000     3329      110  Successful  2009  \n",
       "6  2009-05-29    200       41        3      Failed  2009  \n",
       "7  2009-05-29    500      563       18  Successful  2009  \n",
       "8  2009-06-01    500        0        0    Canceled  2009  \n",
       "9  2009-05-16    300       15        2      Failed  2009  "
      ]
     },
     "execution_count": 44,
     "metadata": {},
     "output_type": "execute_result"
    }
   ],
   "source": [
    "# Name stünu silindi ve ilk 10 veri gösterildi\n",
    "df = pd.read_csv(\"backup.csv\")\n",
    "df = df.drop(labels=\"Name\",axis=1)\n",
    "df['Year'] = pd.DatetimeIndex(df['Launched']).year\n",
    "df.head(10)"
   ]
  },
  {
   "cell_type": "code",
   "execution_count": 45,
   "metadata": {},
   "outputs": [
    {
     "data": {
      "text/plain": [
       "ID             0\n",
       "Category       0\n",
       "Subcategory    0\n",
       "Country        0\n",
       "Launched       0\n",
       "Deadline       0\n",
       "Goal           0\n",
       "Pledged        0\n",
       "Backers        0\n",
       "State          0\n",
       "Year           0\n",
       "dtype: int64"
      ]
     },
     "execution_count": 45,
     "metadata": {},
     "output_type": "execute_result"
    }
   ],
   "source": [
    "# Boş veriler gösterildi\n",
    "df.isnull().sum()"
   ]
  },
  {
   "cell_type": "code",
   "execution_count": 46,
   "metadata": {},
   "outputs": [
    {
     "data": {
      "text/html": [
       "<div>\n",
       "<style scoped>\n",
       "    .dataframe tbody tr th:only-of-type {\n",
       "        vertical-align: middle;\n",
       "    }\n",
       "\n",
       "    .dataframe tbody tr th {\n",
       "        vertical-align: top;\n",
       "    }\n",
       "\n",
       "    .dataframe thead th {\n",
       "        text-align: right;\n",
       "    }\n",
       "</style>\n",
       "<table border=\"1\" class=\"dataframe\">\n",
       "  <thead>\n",
       "    <tr style=\"text-align: right;\">\n",
       "      <th></th>\n",
       "      <th>ID</th>\n",
       "      <th>Goal</th>\n",
       "      <th>Pledged</th>\n",
       "      <th>Backers</th>\n",
       "      <th>Year</th>\n",
       "    </tr>\n",
       "  </thead>\n",
       "  <tbody>\n",
       "    <tr>\n",
       "      <th>count</th>\n",
       "      <td>9.990000e+02</td>\n",
       "      <td>9.990000e+02</td>\n",
       "      <td>999.000000</td>\n",
       "      <td>999.000000</td>\n",
       "      <td>999.0</td>\n",
       "    </tr>\n",
       "    <tr>\n",
       "      <th>mean</th>\n",
       "      <td>1.074048e+09</td>\n",
       "      <td>7.203069e+03</td>\n",
       "      <td>2040.285285</td>\n",
       "      <td>32.467467</td>\n",
       "      <td>2009.0</td>\n",
       "    </tr>\n",
       "    <tr>\n",
       "      <th>std</th>\n",
       "      <td>6.065608e+08</td>\n",
       "      <td>3.676912e+04</td>\n",
       "      <td>4437.591249</td>\n",
       "      <td>69.866411</td>\n",
       "      <td>0.0</td>\n",
       "    </tr>\n",
       "    <tr>\n",
       "      <th>min</th>\n",
       "      <td>6.378670e+05</td>\n",
       "      <td>1.000000e+00</td>\n",
       "      <td>0.000000</td>\n",
       "      <td>0.000000</td>\n",
       "      <td>2009.0</td>\n",
       "    </tr>\n",
       "    <tr>\n",
       "      <th>25%</th>\n",
       "      <td>5.669267e+08</td>\n",
       "      <td>1.500000e+03</td>\n",
       "      <td>41.000000</td>\n",
       "      <td>2.000000</td>\n",
       "      <td>2009.0</td>\n",
       "    </tr>\n",
       "    <tr>\n",
       "      <th>50%</th>\n",
       "      <td>1.070416e+09</td>\n",
       "      <td>3.000000e+03</td>\n",
       "      <td>525.000000</td>\n",
       "      <td>10.000000</td>\n",
       "      <td>2009.0</td>\n",
       "    </tr>\n",
       "    <tr>\n",
       "      <th>75%</th>\n",
       "      <td>1.612793e+09</td>\n",
       "      <td>5.500000e+03</td>\n",
       "      <td>2252.000000</td>\n",
       "      <td>38.000000</td>\n",
       "      <td>2009.0</td>\n",
       "    </tr>\n",
       "    <tr>\n",
       "      <th>max</th>\n",
       "      <td>2.147220e+09</td>\n",
       "      <td>1.065000e+06</td>\n",
       "      <td>84614.000000</td>\n",
       "      <td>1312.000000</td>\n",
       "      <td>2009.0</td>\n",
       "    </tr>\n",
       "  </tbody>\n",
       "</table>\n",
       "</div>"
      ],
      "text/plain": [
       "                 ID          Goal       Pledged      Backers    Year\n",
       "count  9.990000e+02  9.990000e+02    999.000000   999.000000   999.0\n",
       "mean   1.074048e+09  7.203069e+03   2040.285285    32.467467  2009.0\n",
       "std    6.065608e+08  3.676912e+04   4437.591249    69.866411     0.0\n",
       "min    6.378670e+05  1.000000e+00      0.000000     0.000000  2009.0\n",
       "25%    5.669267e+08  1.500000e+03     41.000000     2.000000  2009.0\n",
       "50%    1.070416e+09  3.000000e+03    525.000000    10.000000  2009.0\n",
       "75%    1.612793e+09  5.500000e+03   2252.000000    38.000000  2009.0\n",
       "max    2.147220e+09  1.065000e+06  84614.000000  1312.000000  2009.0"
      ]
     },
     "execution_count": 46,
     "metadata": {},
     "output_type": "execute_result"
    }
   ],
   "source": [
    "# Veriler değerlendirildi\n",
    "df.describe()"
   ]
  },
  {
   "cell_type": "code",
   "execution_count": 47,
   "metadata": {},
   "outputs": [
    {
     "data": {
      "text/html": [
       "<div>\n",
       "<style scoped>\n",
       "    .dataframe tbody tr th:only-of-type {\n",
       "        vertical-align: middle;\n",
       "    }\n",
       "\n",
       "    .dataframe tbody tr th {\n",
       "        vertical-align: top;\n",
       "    }\n",
       "\n",
       "    .dataframe thead th {\n",
       "        text-align: right;\n",
       "    }\n",
       "</style>\n",
       "<table border=\"1\" class=\"dataframe\">\n",
       "  <thead>\n",
       "    <tr style=\"text-align: right;\">\n",
       "      <th></th>\n",
       "      <th>Goal</th>\n",
       "      <th>Pledged</th>\n",
       "      <th>Backers</th>\n",
       "    </tr>\n",
       "  </thead>\n",
       "  <tbody>\n",
       "    <tr>\n",
       "      <th>0</th>\n",
       "      <td>1000</td>\n",
       "      <td>625</td>\n",
       "      <td>30</td>\n",
       "    </tr>\n",
       "    <tr>\n",
       "      <th>1</th>\n",
       "      <td>80000</td>\n",
       "      <td>22</td>\n",
       "      <td>3</td>\n",
       "    </tr>\n",
       "    <tr>\n",
       "      <th>2</th>\n",
       "      <td>20</td>\n",
       "      <td>35</td>\n",
       "      <td>3</td>\n",
       "    </tr>\n",
       "    <tr>\n",
       "      <th>3</th>\n",
       "      <td>99</td>\n",
       "      <td>145</td>\n",
       "      <td>25</td>\n",
       "    </tr>\n",
       "    <tr>\n",
       "      <th>4</th>\n",
       "      <td>1900</td>\n",
       "      <td>387</td>\n",
       "      <td>10</td>\n",
       "    </tr>\n",
       "    <tr>\n",
       "      <th>...</th>\n",
       "      <td>...</td>\n",
       "      <td>...</td>\n",
       "      <td>...</td>\n",
       "    </tr>\n",
       "    <tr>\n",
       "      <th>994</th>\n",
       "      <td>2000</td>\n",
       "      <td>865</td>\n",
       "      <td>13</td>\n",
       "    </tr>\n",
       "    <tr>\n",
       "      <th>995</th>\n",
       "      <td>5000</td>\n",
       "      <td>5075</td>\n",
       "      <td>89</td>\n",
       "    </tr>\n",
       "    <tr>\n",
       "      <th>996</th>\n",
       "      <td>11000</td>\n",
       "      <td>2075</td>\n",
       "      <td>6</td>\n",
       "    </tr>\n",
       "    <tr>\n",
       "      <th>997</th>\n",
       "      <td>2000</td>\n",
       "      <td>1004</td>\n",
       "      <td>24</td>\n",
       "    </tr>\n",
       "    <tr>\n",
       "      <th>998</th>\n",
       "      <td>1500</td>\n",
       "      <td>1505</td>\n",
       "      <td>44</td>\n",
       "    </tr>\n",
       "  </tbody>\n",
       "</table>\n",
       "<p>999 rows × 3 columns</p>\n",
       "</div>"
      ],
      "text/plain": [
       "      Goal  Pledged  Backers\n",
       "0     1000      625       30\n",
       "1    80000       22        3\n",
       "2       20       35        3\n",
       "3       99      145       25\n",
       "4     1900      387       10\n",
       "..     ...      ...      ...\n",
       "994   2000      865       13\n",
       "995   5000     5075       89\n",
       "996  11000     2075        6\n",
       "997   2000     1004       24\n",
       "998   1500     1505       44\n",
       "\n",
       "[999 rows x 3 columns]"
      ]
     },
     "execution_count": 47,
     "metadata": {},
     "output_type": "execute_result"
    }
   ],
   "source": [
    "# Sayısal veriler kategorilere ayrıldı\n",
    "categorical_df = df.iloc[:,1:4]\n",
    "numerical_df = df.iloc[:,6:9]\n",
    "numerical_df"
   ]
  },
  {
   "attachments": {},
   "cell_type": "markdown",
   "metadata": {},
   "source": [
    "Verilerin başarılı proje ve başarısız proje olarak değerlendirilmesi"
   ]
  },
  {
   "cell_type": "code",
   "execution_count": 48,
   "metadata": {},
   "outputs": [
    {
     "name": "stdout",
     "output_type": "stream",
     "text": [
      "Total successful attempts :  419\n",
      "Total number of successful attempts by type : \n",
      "United States    419\n",
      "Name: Country, dtype: int64\n"
     ]
    }
   ],
   "source": [
    "# Başarılı projeler yıllara göre ait oldukları ülkeler\n",
    "df_successfull=df[df[\"State\"] == \"Successful\"]\n",
    "df_successfull[\"Country\"].value_counts()\n",
    "\n",
    "print(\"Total successful attempts : \",end=\" \")\n",
    "print(df_successfull[\"Country\"].value_counts().sum())\n",
    "\n",
    "print(\"Total number of successful attempts by type : \")\n",
    "print(df_successfull[\"Country\"].value_counts())"
   ]
  },
  {
   "cell_type": "code",
   "execution_count": 49,
   "metadata": {},
   "outputs": [
    {
     "name": "stdout",
     "output_type": "stream",
     "text": [
      "Total successful attempts :  419\n",
      "Total number of successful attempts by type : \n",
      "Music           109\n",
      "Film & Video     86\n",
      "Art              59\n",
      "Publishing       40\n",
      "Photography      27\n",
      "Theater          18\n",
      "Games            17\n",
      "Journalism       15\n",
      "Technology       13\n",
      "Food             12\n",
      "Comics            9\n",
      "Fashion           4\n",
      "Design            4\n",
      "Crafts            4\n",
      "Dance             2\n",
      "Name: Category, dtype: int64\n"
     ]
    }
   ],
   "source": [
    "# Başarılı projeler yıllara göre kategorileri\n",
    "df_successfull=df[df[\"State\"] == \"Successful\"]\n",
    "df_successfull[\"Category\"].value_counts()\n",
    "\n",
    "print(\"Total successful attempts : \",end=\" \")\n",
    "print(df_successfull[\"Category\"].value_counts().sum())\n",
    "\n",
    "print(\"Total number of successful attempts by type : \")\n",
    "print(df_successfull[\"Category\"].value_counts())"
   ]
  },
  {
   "cell_type": "code",
   "execution_count": 50,
   "metadata": {},
   "outputs": [
    {
     "name": "stdout",
     "output_type": "stream",
     "text": [
      "Total failed attempts :  460\n",
      "Total number of failed attempts by type : \n",
      "United States    460\n",
      "Name: Country, dtype: int64\n"
     ]
    }
   ],
   "source": [
    "# Başarısız projelerin yıllara göre ait oldukları ülekeler\n",
    "df_failed=df[df[\"State\"] == \"Failed\"]\n",
    "df_failed[\"Country\"].value_counts()\n",
    "\n",
    "print(\"Total failed attempts : \",end=\" \")\n",
    "print(df_failed[\"Country\"].value_counts().sum())\n",
    "\n",
    "print(\"Total number of failed attempts by type : \")\n",
    "print(df_failed[\"Country\"].value_counts())"
   ]
  },
  {
   "cell_type": "code",
   "execution_count": 51,
   "metadata": {},
   "outputs": [
    {
     "name": "stdout",
     "output_type": "stream",
     "text": [
      "Total failed attempts :  460\n",
      "Total number of failed attempts by type : \n",
      "Film & Video    121\n",
      "Music            87\n",
      "Art              60\n",
      "Publishing       44\n",
      "Photography      24\n",
      "Technology       23\n",
      "Fashion          18\n",
      "Theater          18\n",
      "Design           15\n",
      "Games            14\n",
      "Journalism       14\n",
      "Comics            7\n",
      "Food              7\n",
      "Crafts            5\n",
      "Dance             3\n",
      "Name: Category, dtype: int64\n"
     ]
    }
   ],
   "source": [
    "# Başarısız projelerin yıllara göre kategorileri\n",
    "df_failed=df[df[\"State\"] == \"Failed\"]\n",
    "df_failed[\"Category\"].value_counts()\n",
    "\n",
    "print(\"Total failed attempts : \",end=\" \")\n",
    "print(df_failed[\"Category\"].value_counts().sum())\n",
    "\n",
    "print(\"Total number of failed attempts by type : \")\n",
    "print(df_failed[\"Category\"].value_counts())"
   ]
  },
  {
   "attachments": {},
   "cell_type": "markdown",
   "metadata": {},
   "source": [
    "Aykırı Verilerin Bulunması"
   ]
  },
  {
   "cell_type": "code",
   "execution_count": 52,
   "metadata": {},
   "outputs": [
    {
     "data": {
      "text/html": [
       "<div>\n",
       "<style scoped>\n",
       "    .dataframe tbody tr th:only-of-type {\n",
       "        vertical-align: middle;\n",
       "    }\n",
       "\n",
       "    .dataframe tbody tr th {\n",
       "        vertical-align: top;\n",
       "    }\n",
       "\n",
       "    .dataframe thead th {\n",
       "        text-align: right;\n",
       "    }\n",
       "</style>\n",
       "<table border=\"1\" class=\"dataframe\">\n",
       "  <thead>\n",
       "    <tr style=\"text-align: right;\">\n",
       "      <th></th>\n",
       "      <th>ID</th>\n",
       "      <th>Category</th>\n",
       "      <th>Subcategory</th>\n",
       "      <th>Country</th>\n",
       "      <th>Launched</th>\n",
       "      <th>Deadline</th>\n",
       "      <th>Goal</th>\n",
       "      <th>Pledged</th>\n",
       "      <th>Backers</th>\n",
       "      <th>State</th>\n",
       "      <th>Year</th>\n",
       "    </tr>\n",
       "  </thead>\n",
       "  <tbody>\n",
       "  </tbody>\n",
       "</table>\n",
       "</div>"
      ],
      "text/plain": [
       "Empty DataFrame\n",
       "Columns: [ID, Category, Subcategory, Country, Launched, Deadline, Goal, Pledged, Backers, State, Year]\n",
       "Index: []"
      ]
     },
     "execution_count": 52,
     "metadata": {},
     "output_type": "execute_result"
    }
   ],
   "source": [
    "hero_df = df_successfull[df_successfull[\"Goal\"] > df_successfull[\"Pledged\"]]\n",
    "hero_df"
   ]
  },
  {
   "attachments": {},
   "cell_type": "markdown",
   "metadata": {},
   "source": [
    "2 proje girişimi yeterli destek görememesine rağmen başarılı olmuş."
   ]
  },
  {
   "attachments": {},
   "cell_type": "markdown",
   "metadata": {},
   "source": [
    "Sınıflandırma Modelini Modeli oluşturma"
   ]
  },
  {
   "attachments": {},
   "cell_type": "markdown",
   "metadata": {},
   "source": [
    "Başarılı ve Başarısız proje verilerinin birleştirilmesi"
   ]
  },
  {
   "cell_type": "code",
   "execution_count": 53,
   "metadata": {},
   "outputs": [
    {
     "data": {
      "text/html": [
       "<div>\n",
       "<style scoped>\n",
       "    .dataframe tbody tr th:only-of-type {\n",
       "        vertical-align: middle;\n",
       "    }\n",
       "\n",
       "    .dataframe tbody tr th {\n",
       "        vertical-align: top;\n",
       "    }\n",
       "\n",
       "    .dataframe thead th {\n",
       "        text-align: right;\n",
       "    }\n",
       "</style>\n",
       "<table border=\"1\" class=\"dataframe\">\n",
       "  <thead>\n",
       "    <tr style=\"text-align: right;\">\n",
       "      <th></th>\n",
       "      <th>ID</th>\n",
       "      <th>Category</th>\n",
       "      <th>Subcategory</th>\n",
       "      <th>Country</th>\n",
       "      <th>Launched</th>\n",
       "      <th>Deadline</th>\n",
       "      <th>Goal</th>\n",
       "      <th>Pledged</th>\n",
       "      <th>Backers</th>\n",
       "      <th>State</th>\n",
       "      <th>Year</th>\n",
       "    </tr>\n",
       "  </thead>\n",
       "  <tbody>\n",
       "    <tr>\n",
       "      <th>0</th>\n",
       "      <td>1860890148</td>\n",
       "      <td>Fashion</td>\n",
       "      <td>Fashion</td>\n",
       "      <td>United States</td>\n",
       "      <td>2009-04-21 21:02:48</td>\n",
       "      <td>2009-05-31</td>\n",
       "      <td>1000</td>\n",
       "      <td>625</td>\n",
       "      <td>30</td>\n",
       "      <td>Failed</td>\n",
       "      <td>2009</td>\n",
       "    </tr>\n",
       "    <tr>\n",
       "      <th>1</th>\n",
       "      <td>709707365</td>\n",
       "      <td>Film &amp; Video</td>\n",
       "      <td>Shorts</td>\n",
       "      <td>United States</td>\n",
       "      <td>2009-04-23 00:07:53</td>\n",
       "      <td>2009-07-20</td>\n",
       "      <td>80000</td>\n",
       "      <td>22</td>\n",
       "      <td>3</td>\n",
       "      <td>Failed</td>\n",
       "      <td>2009</td>\n",
       "    </tr>\n",
       "    <tr>\n",
       "      <th>4</th>\n",
       "      <td>1622952265</td>\n",
       "      <td>Fashion</td>\n",
       "      <td>Fashion</td>\n",
       "      <td>United States</td>\n",
       "      <td>2009-04-27 14:10:39</td>\n",
       "      <td>2009-05-26</td>\n",
       "      <td>1900</td>\n",
       "      <td>387</td>\n",
       "      <td>10</td>\n",
       "      <td>Failed</td>\n",
       "      <td>2009</td>\n",
       "    </tr>\n",
       "    <tr>\n",
       "      <th>6</th>\n",
       "      <td>830477146</td>\n",
       "      <td>Film &amp; Video</td>\n",
       "      <td>Shorts</td>\n",
       "      <td>United States</td>\n",
       "      <td>2009-04-29 02:04:21</td>\n",
       "      <td>2009-05-29</td>\n",
       "      <td>200</td>\n",
       "      <td>41</td>\n",
       "      <td>3</td>\n",
       "      <td>Failed</td>\n",
       "      <td>2009</td>\n",
       "    </tr>\n",
       "    <tr>\n",
       "      <th>9</th>\n",
       "      <td>813230527</td>\n",
       "      <td>Music</td>\n",
       "      <td>Rock</td>\n",
       "      <td>United States</td>\n",
       "      <td>2009-04-29 05:26:32</td>\n",
       "      <td>2009-05-16</td>\n",
       "      <td>300</td>\n",
       "      <td>15</td>\n",
       "      <td>2</td>\n",
       "      <td>Failed</td>\n",
       "      <td>2009</td>\n",
       "    </tr>\n",
       "  </tbody>\n",
       "</table>\n",
       "</div>"
      ],
      "text/plain": [
       "           ID      Category Subcategory        Country             Launched  \\\n",
       "0  1860890148       Fashion     Fashion  United States  2009-04-21 21:02:48   \n",
       "1   709707365  Film & Video      Shorts  United States  2009-04-23 00:07:53   \n",
       "4  1622952265       Fashion     Fashion  United States  2009-04-27 14:10:39   \n",
       "6   830477146  Film & Video      Shorts  United States  2009-04-29 02:04:21   \n",
       "9   813230527         Music        Rock  United States  2009-04-29 05:26:32   \n",
       "\n",
       "     Deadline   Goal  Pledged  Backers   State  Year  \n",
       "0  2009-05-31   1000      625       30  Failed  2009  \n",
       "1  2009-07-20  80000       22        3  Failed  2009  \n",
       "4  2009-05-26   1900      387       10  Failed  2009  \n",
       "6  2009-05-29    200       41        3  Failed  2009  \n",
       "9  2009-05-16    300       15        2  Failed  2009  "
      ]
     },
     "execution_count": 53,
     "metadata": {},
     "output_type": "execute_result"
    }
   ],
   "source": [
    "# Başarısız projeler\n",
    "df_failed=df[df[\"State\"] == \"Failed\"]\n",
    "df_failed.head()"
   ]
  },
  {
   "cell_type": "code",
   "execution_count": 54,
   "metadata": {},
   "outputs": [
    {
     "data": {
      "text/html": [
       "<div>\n",
       "<style scoped>\n",
       "    .dataframe tbody tr th:only-of-type {\n",
       "        vertical-align: middle;\n",
       "    }\n",
       "\n",
       "    .dataframe tbody tr th {\n",
       "        vertical-align: top;\n",
       "    }\n",
       "\n",
       "    .dataframe thead th {\n",
       "        text-align: right;\n",
       "    }\n",
       "</style>\n",
       "<table border=\"1\" class=\"dataframe\">\n",
       "  <thead>\n",
       "    <tr style=\"text-align: right;\">\n",
       "      <th></th>\n",
       "      <th>ID</th>\n",
       "      <th>Category</th>\n",
       "      <th>Subcategory</th>\n",
       "      <th>Country</th>\n",
       "      <th>Launched</th>\n",
       "      <th>Deadline</th>\n",
       "      <th>Goal</th>\n",
       "      <th>Pledged</th>\n",
       "      <th>Backers</th>\n",
       "      <th>State</th>\n",
       "      <th>Year</th>\n",
       "    </tr>\n",
       "  </thead>\n",
       "  <tbody>\n",
       "    <tr>\n",
       "      <th>2</th>\n",
       "      <td>1703704063</td>\n",
       "      <td>Art</td>\n",
       "      <td>Illustration</td>\n",
       "      <td>United States</td>\n",
       "      <td>2009-04-24 21:52:03</td>\n",
       "      <td>2009-05-03</td>\n",
       "      <td>20</td>\n",
       "      <td>35</td>\n",
       "      <td>3</td>\n",
       "      <td>Successful</td>\n",
       "      <td>2009</td>\n",
       "    </tr>\n",
       "    <tr>\n",
       "      <th>3</th>\n",
       "      <td>727286</td>\n",
       "      <td>Technology</td>\n",
       "      <td>Software</td>\n",
       "      <td>United States</td>\n",
       "      <td>2009-04-25 17:36:21</td>\n",
       "      <td>2009-07-14</td>\n",
       "      <td>99</td>\n",
       "      <td>145</td>\n",
       "      <td>25</td>\n",
       "      <td>Successful</td>\n",
       "      <td>2009</td>\n",
       "    </tr>\n",
       "    <tr>\n",
       "      <th>5</th>\n",
       "      <td>2089078683</td>\n",
       "      <td>Journalism</td>\n",
       "      <td>Journalism</td>\n",
       "      <td>United States</td>\n",
       "      <td>2009-04-28 13:55:41</td>\n",
       "      <td>2009-05-16</td>\n",
       "      <td>3000</td>\n",
       "      <td>3329</td>\n",
       "      <td>110</td>\n",
       "      <td>Successful</td>\n",
       "      <td>2009</td>\n",
       "    </tr>\n",
       "    <tr>\n",
       "      <th>7</th>\n",
       "      <td>266044220</td>\n",
       "      <td>Publishing</td>\n",
       "      <td>Fiction</td>\n",
       "      <td>United States</td>\n",
       "      <td>2009-04-29 02:58:50</td>\n",
       "      <td>2009-05-29</td>\n",
       "      <td>500</td>\n",
       "      <td>563</td>\n",
       "      <td>18</td>\n",
       "      <td>Successful</td>\n",
       "      <td>2009</td>\n",
       "    </tr>\n",
       "    <tr>\n",
       "      <th>10</th>\n",
       "      <td>469734648</td>\n",
       "      <td>Photography</td>\n",
       "      <td>Photography</td>\n",
       "      <td>United States</td>\n",
       "      <td>2009-04-29 06:43:44</td>\n",
       "      <td>2009-06-17</td>\n",
       "      <td>350</td>\n",
       "      <td>1630</td>\n",
       "      <td>31</td>\n",
       "      <td>Successful</td>\n",
       "      <td>2009</td>\n",
       "    </tr>\n",
       "  </tbody>\n",
       "</table>\n",
       "</div>"
      ],
      "text/plain": [
       "            ID     Category   Subcategory        Country             Launched  \\\n",
       "2   1703704063          Art  Illustration  United States  2009-04-24 21:52:03   \n",
       "3       727286   Technology      Software  United States  2009-04-25 17:36:21   \n",
       "5   2089078683   Journalism    Journalism  United States  2009-04-28 13:55:41   \n",
       "7    266044220   Publishing       Fiction  United States  2009-04-29 02:58:50   \n",
       "10   469734648  Photography   Photography  United States  2009-04-29 06:43:44   \n",
       "\n",
       "      Deadline  Goal  Pledged  Backers       State  Year  \n",
       "2   2009-05-03    20       35        3  Successful  2009  \n",
       "3   2009-07-14    99      145       25  Successful  2009  \n",
       "5   2009-05-16  3000     3329      110  Successful  2009  \n",
       "7   2009-05-29   500      563       18  Successful  2009  \n",
       "10  2009-06-17   350     1630       31  Successful  2009  "
      ]
     },
     "execution_count": 54,
     "metadata": {},
     "output_type": "execute_result"
    }
   ],
   "source": [
    "# Başarılı projeler\n",
    "df_successfull=df[df[\"State\"] == \"Successful\"]\n",
    "df_successfull.head()"
   ]
  },
  {
   "cell_type": "code",
   "execution_count": 55,
   "metadata": {},
   "outputs": [],
   "source": [
    "df2 = pd.concat([df_successfull,df_failed],axis=0)\n",
    "df2.drop(columns=[\"ID\",\"Launched\",\"Deadline\"],inplace=True)\n",
    "df2.reset_index(inplace=True)"
   ]
  },
  {
   "attachments": {},
   "cell_type": "markdown",
   "metadata": {},
   "source": [
    "Preprocessing"
   ]
  },
  {
   "cell_type": "code",
   "execution_count": 56,
   "metadata": {},
   "outputs": [],
   "source": [
    "from sklearn.preprocessing import LabelEncoder\n",
    "le = LabelEncoder()\n",
    "df2[\"State\"] = le.fit_transform(df2[\"State\"])"
   ]
  },
  {
   "cell_type": "code",
   "execution_count": 57,
   "metadata": {},
   "outputs": [],
   "source": [
    "X = df2.drop(columns = [\"State\"], axis=1)\n",
    "y = df2[\"State\"]"
   ]
  },
  {
   "cell_type": "code",
   "execution_count": 58,
   "metadata": {},
   "outputs": [],
   "source": [
    "num_features = X.select_dtypes(exclude = \"object\").columns\n",
    "cat_features = X.select_dtypes(include = \"object\").columns\n",
    "\n",
    "from sklearn.preprocessing import OneHotEncoder,StandardScaler\n",
    "from sklearn.compose import ColumnTransformer\n",
    "\n",
    "numeric_transformer = StandardScaler()\n",
    "oh_transformer = OneHotEncoder()\n",
    "\n",
    "preprocessor = ColumnTransformer(\n",
    "    [  \n",
    "        (\"OneHotEncoder\",oh_transformer,cat_features),\n",
    "        (\"StandardScaler\", numeric_transformer,num_features),\n",
    "    ]\n",
    ")"
   ]
  },
  {
   "cell_type": "code",
   "execution_count": 59,
   "metadata": {},
   "outputs": [],
   "source": [
    "X = preprocessor.fit_transform(X)"
   ]
  },
  {
   "cell_type": "code",
   "execution_count": 60,
   "metadata": {},
   "outputs": [
    {
     "data": {
      "text/plain": [
       "((615, 76), (264, 76))"
      ]
     },
     "execution_count": 60,
     "metadata": {},
     "output_type": "execute_result"
    }
   ],
   "source": [
    "from sklearn.model_selection import train_test_split\n",
    "X_train, X_test, y_train, y_test = train_test_split(X,y, test_size=0.3,random_state = 35)\n",
    "X_train.shape, X_test.shape"
   ]
  },
  {
   "cell_type": "code",
   "execution_count": 61,
   "metadata": {},
   "outputs": [],
   "source": [
    "# Naive Bayes ayarlaması\n",
    "Xd = X.toarray()\n",
    "Xd_train, Xd_test, yd_train, yd_test = train_test_split(Xd,y, test_size=0.3,random_state = 35)"
   ]
  },
  {
   "cell_type": "code",
   "execution_count": 62,
   "metadata": {},
   "outputs": [
    {
     "name": "stdout",
     "output_type": "stream",
     "text": [
      "[LibLinear]iter  1 act 8.386e+01 pre 6.442e+01 delta 2.363e+00 f 4.263e+02 |g| 1.869e+02 CG   5\n",
      "iter  2 act 7.804e+01 pre 5.807e+01 delta 2.363e+00 f 3.424e+02 |g| 9.463e+01 CG   4\n",
      "cg reaches trust region boundary\n",
      "iter  3 act 5.088e+01 pre 4.161e+01 delta 3.230e+00 f 2.644e+02 |g| 4.275e+01 CG   4\n",
      "iter  4 act 1.945e+01 pre 1.740e+01 delta 3.576e+00 f 2.135e+02 |g| 1.734e+01 CG   6\n",
      "iter  5 act 1.140e+00 pre 1.084e+00 delta 3.576e+00 f 1.941e+02 |g| 4.090e+00 CG   6\n",
      "iter  6 act 1.921e-02 pre 1.914e-02 delta 3.576e+00 f 1.929e+02 |g| 5.156e-01 CG   6\n",
      "iter  7 act 1.775e-04 pre 1.774e-04 delta 3.576e+00 f 1.929e+02 |g| 3.970e-02 CG   7\n"
     ]
    },
    {
     "data": {
      "text/html": [
       "<style>#sk-container-id-2 {color: black;background-color: white;}#sk-container-id-2 pre{padding: 0;}#sk-container-id-2 div.sk-toggleable {background-color: white;}#sk-container-id-2 label.sk-toggleable__label {cursor: pointer;display: block;width: 100%;margin-bottom: 0;padding: 0.3em;box-sizing: border-box;text-align: center;}#sk-container-id-2 label.sk-toggleable__label-arrow:before {content: \"▸\";float: left;margin-right: 0.25em;color: #696969;}#sk-container-id-2 label.sk-toggleable__label-arrow:hover:before {color: black;}#sk-container-id-2 div.sk-estimator:hover label.sk-toggleable__label-arrow:before {color: black;}#sk-container-id-2 div.sk-toggleable__content {max-height: 0;max-width: 0;overflow: hidden;text-align: left;background-color: #f0f8ff;}#sk-container-id-2 div.sk-toggleable__content pre {margin: 0.2em;color: black;border-radius: 0.25em;background-color: #f0f8ff;}#sk-container-id-2 input.sk-toggleable__control:checked~div.sk-toggleable__content {max-height: 200px;max-width: 100%;overflow: auto;}#sk-container-id-2 input.sk-toggleable__control:checked~label.sk-toggleable__label-arrow:before {content: \"▾\";}#sk-container-id-2 div.sk-estimator input.sk-toggleable__control:checked~label.sk-toggleable__label {background-color: #d4ebff;}#sk-container-id-2 div.sk-label input.sk-toggleable__control:checked~label.sk-toggleable__label {background-color: #d4ebff;}#sk-container-id-2 input.sk-hidden--visually {border: 0;clip: rect(1px 1px 1px 1px);clip: rect(1px, 1px, 1px, 1px);height: 1px;margin: -1px;overflow: hidden;padding: 0;position: absolute;width: 1px;}#sk-container-id-2 div.sk-estimator {font-family: monospace;background-color: #f0f8ff;border: 1px dotted black;border-radius: 0.25em;box-sizing: border-box;margin-bottom: 0.5em;}#sk-container-id-2 div.sk-estimator:hover {background-color: #d4ebff;}#sk-container-id-2 div.sk-parallel-item::after {content: \"\";width: 100%;border-bottom: 1px solid gray;flex-grow: 1;}#sk-container-id-2 div.sk-label:hover label.sk-toggleable__label {background-color: #d4ebff;}#sk-container-id-2 div.sk-serial::before {content: \"\";position: absolute;border-left: 1px solid gray;box-sizing: border-box;top: 0;bottom: 0;left: 50%;z-index: 0;}#sk-container-id-2 div.sk-serial {display: flex;flex-direction: column;align-items: center;background-color: white;padding-right: 0.2em;padding-left: 0.2em;position: relative;}#sk-container-id-2 div.sk-item {position: relative;z-index: 1;}#sk-container-id-2 div.sk-parallel {display: flex;align-items: stretch;justify-content: center;background-color: white;position: relative;}#sk-container-id-2 div.sk-item::before, #sk-container-id-2 div.sk-parallel-item::before {content: \"\";position: absolute;border-left: 1px solid gray;box-sizing: border-box;top: 0;bottom: 0;left: 50%;z-index: -1;}#sk-container-id-2 div.sk-parallel-item {display: flex;flex-direction: column;z-index: 1;position: relative;background-color: white;}#sk-container-id-2 div.sk-parallel-item:first-child::after {align-self: flex-end;width: 50%;}#sk-container-id-2 div.sk-parallel-item:last-child::after {align-self: flex-start;width: 50%;}#sk-container-id-2 div.sk-parallel-item:only-child::after {width: 0;}#sk-container-id-2 div.sk-dashed-wrapped {border: 1px dashed gray;margin: 0 0.4em 0.5em 0.4em;box-sizing: border-box;padding-bottom: 0.4em;background-color: white;}#sk-container-id-2 div.sk-label label {font-family: monospace;font-weight: bold;display: inline-block;line-height: 1.2em;}#sk-container-id-2 div.sk-label-container {text-align: center;}#sk-container-id-2 div.sk-container {/* jupyter's `normalize.less` sets `[hidden] { display: none; }` but bootstrap.min.css set `[hidden] { display: none !important; }` so we also need the `!important` here to be able to override the default hidden behavior on the sphinx rendered scikit-learn.org. See: https://github.com/scikit-learn/scikit-learn/issues/21755 */display: inline-block !important;position: relative;}#sk-container-id-2 div.sk-text-repr-fallback {display: none;}</style><div id=\"sk-container-id-2\" class=\"sk-top-container\"><div class=\"sk-text-repr-fallback\"><pre>MLPClassifier()</pre><b>In a Jupyter environment, please rerun this cell to show the HTML representation or trust the notebook. <br />On GitHub, the HTML representation is unable to render, please try loading this page with nbviewer.org.</b></div><div class=\"sk-container\" hidden><div class=\"sk-item\"><div class=\"sk-estimator sk-toggleable\"><input class=\"sk-toggleable__control sk-hidden--visually\" id=\"sk-estimator-id-2\" type=\"checkbox\" checked><label for=\"sk-estimator-id-2\" class=\"sk-toggleable__label sk-toggleable__label-arrow\">MLPClassifier</label><div class=\"sk-toggleable__content\"><pre>MLPClassifier()</pre></div></div></div></div></div>"
      ],
      "text/plain": [
       "MLPClassifier()"
      ]
     },
     "execution_count": 62,
     "metadata": {},
     "output_type": "execute_result"
    }
   ],
   "source": [
    "from sklearn.linear_model import LogisticRegression\n",
    "from sklearn.tree import DecisionTreeRegressor\n",
    "from sklearn.ensemble import RandomForestClassifier\n",
    "from sklearn.neighbors import KNeighborsClassifier\n",
    "from sklearn import svm\n",
    "from sklearn.ensemble import AdaBoostClassifier\n",
    "from sklearn.naive_bayes import GaussianNB\n",
    "from sklearn.neural_network import MLPClassifier\n",
    "from sklearn.metrics import accuracy_score\n",
    "from sklearn.metrics import f1_score\n",
    "from sklearn.metrics import precision_score\n",
    "from sklearn.metrics import recall_score\n",
    "\n",
    "# logistic classifier\n",
    "logr = LogisticRegression(penalty='l2', random_state=35, solver='liblinear', max_iter=100, verbose=3, class_weight='balanced')\n",
    "logr.fit(X_train,y_train)\n",
    "\n",
    "# decision tree classifier\n",
    "decr = DecisionTreeRegressor(splitter='best',min_samples_split=2, random_state=35, min_weight_fraction_leaf=0.0)\n",
    "decr.fit(X_train,y_train)\n",
    "\n",
    "# random forest classification\n",
    "ranc = RandomForestClassifier(n_estimators=10, min_samples_split=2, criterion='gini', min_weight_fraction_leaf=0.0, max_features='auto')\n",
    "ranc.fit(X_train,y_train)\n",
    "\n",
    "# k nearest neighbors classification\n",
    "knnc = KNeighborsClassifier(n_neighbors=6, weights='distance', algorithm='kd_tree', leaf_size=60, n_jobs=-1)\n",
    "knnc.fit(X_train,y_train)\n",
    "\n",
    "# support vector machine classification\n",
    "svmc = svm.SVC(kernel='linear', gamma='auto', probability=True, max_iter=-1, random_state=35)\n",
    "svmc.fit(X_train,y_train)\n",
    "\n",
    "# naive bayes classification\n",
    "gnbc = GaussianNB(var_smoothing=1e-9)\n",
    "gnbc.fit(Xd_train,yd_train)\n",
    "\n",
    "# adaboost classification\n",
    "adac = AdaBoostClassifier(n_estimators=50, learning_rate=1.0)\n",
    "adac.fit(X_train,y_train)\n",
    "\n",
    "# ann classification\n",
    "annc = MLPClassifier(activation='relu', solver='adam', batch_size='auto')\n",
    "annc.fit(X_train,y_train)\n"
   ]
  },
  {
   "cell_type": "code",
   "execution_count": 63,
   "metadata": {},
   "outputs": [
    {
     "name": "stdout",
     "output_type": "stream",
     "text": [
      "Accuracy Score: 0.9053030303030303\n",
      "F1 Score: 0.897\n",
      "Precision Score: 0.901\n",
      "Recall Score: 0.893\n"
     ]
    }
   ],
   "source": [
    "prediction = logr.predict(X_test)\n",
    "accuracy1 = accuracy_score(y_test,prediction)\n",
    "print('Accuracy Score:', accuracy1)\n",
    "print('F1 Score: %.3f' % f1_score(y_test, prediction))\n",
    "print('Precision Score: %.3f' % precision_score(y_test, prediction))\n",
    "print('Recall Score: %.3f' % recall_score(y_test, prediction))"
   ]
  },
  {
   "cell_type": "code",
   "execution_count": 64,
   "metadata": {},
   "outputs": [
    {
     "name": "stdout",
     "output_type": "stream",
     "text": [
      "Accuracy Score: 0.9659090909090909\n",
      "F1 Score: 0.964\n",
      "Precision Score: 0.938\n",
      "Recall Score: 0.992\n"
     ]
    }
   ],
   "source": [
    "prediction = decr.predict(X_test)\n",
    "accuracy2 = accuracy_score(y_test,prediction)\n",
    "print('Accuracy Score:', accuracy2)\n",
    "print('F1 Score: %.3f' % f1_score(y_test, prediction))\n",
    "print('Precision Score: %.3f' % precision_score(y_test, prediction))\n",
    "print('Recall Score: %.3f' % recall_score(y_test, prediction))"
   ]
  },
  {
   "cell_type": "code",
   "execution_count": 65,
   "metadata": {},
   "outputs": [
    {
     "name": "stdout",
     "output_type": "stream",
     "text": [
      "Accuracy Score: 0.9318181818181818\n",
      "F1 Score: 0.927\n",
      "Precision Score: 0.919\n",
      "Recall Score: 0.934\n"
     ]
    }
   ],
   "source": [
    "prediction = ranc.predict(X_test)\n",
    "accuracy3 = accuracy_score(y_test,prediction)\n",
    "print('Accuracy Score:', accuracy3)\n",
    "print('F1 Score: %.3f' % f1_score(y_test, prediction))\n",
    "print('Precision Score: %.3f' % precision_score(y_test, prediction))\n",
    "print('Recall Score: %.3f' % recall_score(y_test, prediction))"
   ]
  },
  {
   "cell_type": "code",
   "execution_count": 66,
   "metadata": {},
   "outputs": [
    {
     "name": "stdout",
     "output_type": "stream",
     "text": [
      "Accuracy Score: 0.7840909090909091\n",
      "F1 Score: 0.765\n",
      "Precision Score: 0.769\n",
      "Recall Score: 0.762\n"
     ]
    }
   ],
   "source": [
    "prediction = knnc.predict(X_test)\n",
    "accuracy4 = accuracy_score(y_test,prediction)\n",
    "print('Accuracy Score:', accuracy4)\n",
    "print('F1 Score: %.3f' % f1_score(y_test, prediction))\n",
    "print('Precision Score: %.3f' % precision_score(y_test, prediction))\n",
    "print('Recall Score: %.3f' % recall_score(y_test, prediction))"
   ]
  },
  {
   "cell_type": "code",
   "execution_count": 67,
   "metadata": {},
   "outputs": [
    {
     "name": "stdout",
     "output_type": "stream",
     "text": [
      "Accuracy Score: 0.928030303030303\n",
      "F1 Score: 0.921\n",
      "Precision Score: 0.940\n",
      "Recall Score: 0.902\n"
     ]
    }
   ],
   "source": [
    "prediction = svmc.predict(X_test)\n",
    "accuracy5 = accuracy_score(y_test,prediction)\n",
    "print('Accuracy Score:', accuracy5)\n",
    "print('F1 Score: %.3f' % f1_score(y_test, prediction))\n",
    "print('Precision Score: %.3f' % precision_score(y_test, prediction))\n",
    "print('Recall Score: %.3f' % recall_score(y_test, prediction))"
   ]
  },
  {
   "cell_type": "code",
   "execution_count": 68,
   "metadata": {},
   "outputs": [
    {
     "name": "stdout",
     "output_type": "stream",
     "text": [
      "Accuracy Score: 0.7196969696969697\n",
      "F1 Score: 0.686\n",
      "Precision Score: 0.711\n",
      "Recall Score: 0.664\n"
     ]
    }
   ],
   "source": [
    "prediction = gnbc.predict(Xd_test)\n",
    "accuracy6 = accuracy_score(yd_test,prediction)\n",
    "print('Accuracy Score:', accuracy6)\n",
    "print('F1 Score: %.3f' % f1_score(yd_test, prediction))\n",
    "print('Precision Score: %.3f' % precision_score(yd_test, prediction))\n",
    "print('Recall Score: %.3f' % recall_score(yd_test, prediction))"
   ]
  },
  {
   "cell_type": "code",
   "execution_count": 69,
   "metadata": {},
   "outputs": [
    {
     "name": "stdout",
     "output_type": "stream",
     "text": [
      "Accuracy Score: 0.9886363636363636\n",
      "F1 Score: 0.988\n",
      "Precision Score: 0.976\n",
      "Recall Score: 1.000\n"
     ]
    }
   ],
   "source": [
    "prediction = adac.predict(X_test)\n",
    "accuracy7 = accuracy_score(y_test,prediction)\n",
    "print('Accuracy Score:', accuracy7)\n",
    "print('F1 Score: %.3f' % f1_score(y_test, prediction))\n",
    "print('Precision Score: %.3f' % precision_score(y_test, prediction))\n",
    "print('Recall Score: %.3f' % recall_score(y_test, prediction))"
   ]
  },
  {
   "cell_type": "code",
   "execution_count": 70,
   "metadata": {},
   "outputs": [
    {
     "name": "stdout",
     "output_type": "stream",
     "text": [
      "Accuracy Score: 0.9166666666666666\n",
      "F1 Score: 0.910\n",
      "Precision Score: 0.910\n",
      "Recall Score: 0.910\n"
     ]
    }
   ],
   "source": [
    "prediction = annc.predict(X_test)\n",
    "accuracy8 = accuracy_score(y_test,prediction)\n",
    "print('Accuracy Score:', accuracy8)\n",
    "print('F1 Score: %.3f' % f1_score(y_test, prediction))\n",
    "print('Precision Score: %.3f' % precision_score(y_test, prediction))\n",
    "print('Recall Score: %.3f' % recall_score(y_test, prediction))"
   ]
  },
  {
   "cell_type": "code",
   "execution_count": 71,
   "metadata": {},
   "outputs": [
    {
     "data": {
      "image/png": "[encoded data removed]",
      "text/plain": [
       "<Figure size 1200x500 with 1 Axes>"
      ]
     },
     "metadata": {},
     "output_type": "display_data"
    }
   ],
   "source": [
    "chart_data = {'Naive Bayes':accuracy6,'K Neighbors':accuracy4,'Logistic':accuracy1,\n",
    "              'ANN':accuracy8,'Random Forest':accuracy3,'SVM':accuracy5,\n",
    "                'Decision Tree':accuracy2, 'Ada Boost':accuracy7}\n",
    "algorithms = list(chart_data.keys())\n",
    "accuracy_score = list(chart_data.values())\n",
    "fid = plt.figure(figsize=(12,5))\n",
    "plt.bar(algorithms, accuracy_score, color='blue', width=0.6)\n",
    "plt.xlabel('Algoritmalar')\n",
    "plt.ylabel('Doğruluk Değerleri')\n",
    "plt.title('Sınıflandırma Algoritmalarının Doğruluk Değerleri Tablosu')\n",
    "plt.show()"
   ]
  }
 ],
 "metadata": {
  "kernelspec": {
   "display_name": "ROS",
   "language": "python",
   "name": "python3"
  },
  "language_info": {
   "codemirror_mode": {
    "name": "ipython",
    "version": 3
   },
   "file_extension": ".py",
   "mimetype": "text/x-python",
   "name": "python",
   "nbconvert_exporter": "python",
   "pygments_lexer": "ipython3",
   "version": "3.10.8"
  },
  "orig_nbformat": 4
 },
 "nbformat": 4,
 "nbformat_minor": 2
}
